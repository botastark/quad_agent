{
 "cells": [
  {
   "cell_type": "code",
   "execution_count": 1,
   "metadata": {},
   "outputs": [],
   "source": [
    "import json"
   ]
  },
  {
   "cell_type": "code",
   "execution_count": 2,
   "metadata": {},
   "outputs": [
    {
     "name": "stdout",
     "output_type": "stream",
     "text": [
      "{'fileType': 'Plan', 'geoFence': {'circles': [], 'polygons': [], 'version': 2}, 'groundStation': 'QGroundControl', 'mission': {'cruiseSpeed': 15, 'firmwareType': 12, 'globalPlanAltitudeMode': 1, 'hoverSpeed': 5, 'items': [{'autoContinue': True, 'command': 530, 'doJumpId': 1, 'frame': 2, 'params': [0, 2, None, None, None, None, None], 'type': 'SimpleItem'}, {'AMSLAltAboveTerrain': None, 'Altitude': 50, 'AltitudeMode': 1, 'autoContinue': True, 'command': 22, 'doJumpId': 2, 'frame': 3, 'params': [0, 0, 0, None, 41.912876711789345, 12.474100697522232, 50], 'type': 'SimpleItem'}, {'TransectStyleComplexItem': {'CameraCalc': {'AdjustedFootprintFrontal': 24.41463414634146, 'AdjustedFootprintSide': 32.49999999999999, 'CameraName': 'Custom Camera', 'DistanceMode': 1, 'DistanceToSurface': 50, 'FixedOrientation': False, 'FocalLength': 3, 'FrontalOverlap': 70, 'ImageDensity': 3.3028455284552845, 'ImageHeight': 2464, 'ImageWidth': 3280, 'Landscape': True, 'MinTriggerInterval': 0, 'SensorHeight': 6.5, 'SensorWidth': 6.5, 'SideOverlap': 70, 'ValueSetIsDistance': True, 'version': 2}, 'CameraShots': 19, 'CameraTriggerInTurnAround': False, 'HoverAndCapture': True, 'Items': [{'autoContinue': True, 'command': 16, 'doJumpId': 3, 'frame': 3, 'params': [0, 0, 0, None, 41.91026037230447, 12.476517794587112, 50], 'type': 'SimpleItem'}, {'autoContinue': True, 'command': 16, 'doJumpId': 4, 'frame': 3, 'params': [4, 0, 0, None, 41.91030802967629, 12.476415312505612, 50], 'type': 'SimpleItem'}, {'autoContinue': True, 'command': 2000, 'doJumpId': 5, 'frame': 2, 'params': [0, 0, 1, None, None, None, None], 'type': 'SimpleItem'}, {'autoContinue': True, 'command': 16, 'doJumpId': 6, 'frame': 3, 'params': [4, 0, 0, None, 41.91042438302323, 12.47616510561011, 50], 'type': 'SimpleItem'}, {'autoContinue': True, 'command': 2000, 'doJumpId': 7, 'frame': 2, 'params': [0, 0, 1, None, None, None, None], 'type': 'SimpleItem'}, {'autoContinue': True, 'command': 16, 'doJumpId': 8, 'frame': 3, 'params': [4, 0, 0, None, 41.91054073582703, 12.475914897802479, 50], 'type': 'SimpleItem'}, {'autoContinue': True, 'command': 2000, 'doJumpId': 9, 'frame': 2, 'params': [0, 0, 1, None, None, None, None], 'type': 'SimpleItem'}, {'autoContinue': True, 'command': 16, 'doJumpId': 10, 'frame': 3, 'params': [4, 0, 0, None, 41.91065708808766, 12.475664689082715, 50], 'type': 'SimpleItem'}, {'autoContinue': True, 'command': 2000, 'doJumpId': 11, 'frame': 2, 'params': [0, 0, 1, None, None, None, None], 'type': 'SimpleItem'}, {'autoContinue': True, 'command': 16, 'doJumpId': 12, 'frame': 3, 'params': [4, 0, 0, None, 41.91074276157166, 12.475480451944959, 50], 'type': 'SimpleItem'}, {'autoContinue': True, 'command': 2000, 'doJumpId': 13, 'frame': 2, 'params': [0, 0, 1, None, None, None, None], 'type': 'SimpleItem'}, {'autoContinue': True, 'command': 16, 'doJumpId': 14, 'frame': 3, 'params': [0, 0, 0, None, 41.91079041802116, 12.475377968314538, 50], 'type': 'SimpleItem'}, {'autoContinue': True, 'command': 16, 'doJumpId': 15, 'frame': 3, 'params': [0, 0, 0, None, 41.91101577419532, 12.475634503871651, 50], 'type': 'SimpleItem'}, {'autoContinue': True, 'command': 16, 'doJumpId': 16, 'frame': 3, 'params': [4, 0, 0, None, 41.91096811751774, 12.475736987672358, 50], 'type': 'SimpleItem'}, {'autoContinue': True, 'command': 2000, 'doJumpId': 17, 'frame': 2, 'params': [0, 0, 1, None, None, None, None], 'type': 'SimpleItem'}, {'autoContinue': True, 'command': 16, 'doJumpId': 18, 'frame': 3, 'params': [4, 0, 0, None, 41.910851765100155, 12.475987197479498, 50], 'type': 'SimpleItem'}, {'autoContinue': True, 'command': 2000, 'doJumpId': 19, 'frame': 2, 'params': [0, 0, 1, None, None, None, None], 'type': 'SimpleItem'}, {'autoContinue': True, 'command': 16, 'doJumpId': 20, 'frame': 3, 'params': [4, 0, 0, None, 41.91073541213942, 12.476237406374487, 50], 'type': 'SimpleItem'}, {'autoContinue': True, 'command': 2000, 'doJumpId': 21, 'frame': 2, 'params': [0, 0, 1, None, None, None, None], 'type': 'SimpleItem'}, {'autoContinue': True, 'command': 16, 'doJumpId': 22, 'frame': 3, 'params': [4, 0, 0, None, 41.91061905863553, 12.476487614357332, 50], 'type': 'SimpleItem'}, {'autoContinue': True, 'command': 2000, 'doJumpId': 23, 'frame': 2, 'params': [0, 0, 1, None, None, None, None], 'type': 'SimpleItem'}, {'autoContinue': True, 'command': 16, 'doJumpId': 24, 'frame': 3, 'params': [4, 0, 0, None, 41.91050270458848, 12.476737821428033, 50], 'type': 'SimpleItem'}, {'autoContinue': True, 'command': 2000, 'doJumpId': 25, 'frame': 2, 'params': [0, 0, 1, None, None, None, None], 'type': 'SimpleItem'}, {'autoContinue': True, 'command': 16, 'doJumpId': 26, 'frame': 3, 'params': [4, 0, 0, None, 41.910445450786355, 12.47686093890983, 50], 'type': 'SimpleItem'}, {'autoContinue': True, 'command': 2000, 'doJumpId': 27, 'frame': 2, 'params': [0, 0, 1, None, None, None, None], 'type': 'SimpleItem'}, {'autoContinue': True, 'command': 16, 'doJumpId': 28, 'frame': 3, 'params': [0, 0, 0, None, 41.91039779301831, 12.47696342087925, 50], 'type': 'SimpleItem'}, {'autoContinue': True, 'command': 16, 'doJumpId': 29, 'frame': 3, 'params': [0, 0, 0, None, 41.91059567520048, 12.477279031850204, 50], 'type': 'SimpleItem'}, {'autoContinue': True, 'command': 16, 'doJumpId': 30, 'frame': 3, 'params': [4, 0, 0, None, 41.91064333324915, 12.477176549798731, 50], 'type': 'SimpleItem'}, {'autoContinue': True, 'command': 2000, 'doJumpId': 31, 'frame': 2, 'params': [0, 0, 1, None, None, None, None], 'type': 'SimpleItem'}, {'autoContinue': True, 'command': 16, 'doJumpId': 32, 'frame': 3, 'params': [4, 0, 0, None, 41.91075968824858, 12.476926342976522, 50], 'type': 'SimpleItem'}, {'autoContinue': True, 'command': 2000, 'doJumpId': 33, 'frame': 2, 'params': [0, 0, 1, None, None, None, None], 'type': 'SimpleItem'}, {'autoContinue': True, 'command': 16, 'doJumpId': 34, 'frame': 3, 'params': [4, 0, 0, None, 41.91087604270487, 12.47667613524216, 50], 'type': 'SimpleItem'}, {'autoContinue': True, 'command': 2000, 'doJumpId': 35, 'frame': 2, 'params': [0, 0, 1, None, None, None, None], 'type': 'SimpleItem'}, {'autoContinue': True, 'command': 16, 'doJumpId': 36, 'frame': 3, 'params': [4, 0, 0, None, 41.91099239661801, 12.47642592659564, 50], 'type': 'SimpleItem'}, {'autoContinue': True, 'command': 2000, 'doJumpId': 37, 'frame': 2, 'params': [0, 0, 1, None, None, None, None], 'type': 'SimpleItem'}, {'autoContinue': True, 'command': 16, 'doJumpId': 38, 'frame': 3, 'params': [4, 0, 0, None, 41.91109232350953, 12.47621104112427, 50], 'type': 'SimpleItem'}, {'autoContinue': True, 'command': 2000, 'doJumpId': 39, 'frame': 2, 'params': [0, 0, 1, None, None, None, None], 'type': 'SimpleItem'}, {'autoContinue': True, 'command': 16, 'doJumpId': 40, 'frame': 3, 'params': [0, 0, 0, None, 41.91113998060862, 12.476108557478073, 50], 'type': 'SimpleItem'}, {'autoContinue': True, 'command': 16, 'doJumpId': 41, 'frame': 3, 'params': [0, 0, 0, None, 41.91123433577981, 12.476646801364089, 50], 'type': 'SimpleItem'}, {'autoContinue': True, 'command': 16, 'doJumpId': 42, 'frame': 3, 'params': [4, 0, 0, None, 41.91118667820216, 12.476749284759922, 50], 'type': 'SimpleItem'}, {'autoContinue': True, 'command': 2000, 'doJumpId': 43, 'frame': 2, 'params': [0, 0, 1, None, None, None, None], 'type': 'SimpleItem'}, {'autoContinue': True, 'command': 16, 'doJumpId': 44, 'frame': 3, 'params': [4, 0, 0, None, 41.911070323587076, 12.47699949357856, 50], 'type': 'SimpleItem'}, {'autoContinue': True, 'command': 2000, 'doJumpId': 45, 'frame': 2, 'params': [0, 0, 1, None, None, None, None], 'type': 'SimpleItem'}, {'autoContinue': True, 'command': 16, 'doJumpId': 46, 'frame': 3, 'params': [4, 0, 0, None, 41.91100283796957, 12.477144613612841, 50], 'type': 'SimpleItem'}, {'autoContinue': True, 'command': 2000, 'doJumpId': 47, 'frame': 2, 'params': [0, 0, 1, None, None, None, None], 'type': 'SimpleItem'}, {'autoContinue': True, 'command': 16, 'doJumpId': 48, 'frame': 3, 'params': [0, 0, 0, None, 41.9109551799493, 12.477247096265334, 50], 'type': 'SimpleItem'}], 'Refly90Degrees': False, 'TurnAroundDistance': 10, 'VisualTransectPoints': [[41.91026037230447, 12.476517794587112], [41.91030802967629, 12.476415312505612], [41.91042438302323, 12.47616510561011], [41.91054073582703, 12.475914897802479], [41.91065708808766, 12.475664689082715], [41.91074276157166, 12.475480451944959], [41.91079041802116, 12.475377968314538], [41.91101577419532, 12.475634503871651], [41.91096811751774, 12.475736987672358], [41.910851765100155, 12.475987197479498], [41.91073541213942, 12.476237406374487], [41.91061905863553, 12.476487614357332], [41.91050270458848, 12.476737821428033], [41.910445450786355, 12.47686093890983], [41.91039779301831, 12.47696342087925], [41.91059567520048, 12.477279031850204], [41.91064333324915, 12.477176549798731], [41.91075968824858, 12.476926342976522], [41.91087604270487, 12.47667613524216], [41.91099239661801, 12.47642592659564], [41.91109232350953, 12.47621104112427], [41.91113998060862, 12.476108557478073], [41.91123433577981, 12.476646801364089], [41.91118667820216, 12.476749284759922], [41.911070323587076, 12.47699949357856], [41.91100283796957, 12.477144613612841], [41.9109551799493, 12.477247096265334]], 'version': 2}, 'angle': 122, 'complexItemType': 'survey', 'entryLocation': 0, 'flyAlternateTransects': False, 'polygon': [[41.91097341560071, 12.475745281545272], [41.911200096480854, 12.47663319327421], [41.91115756609057, 12.477001151592901], [41.910940938227334, 12.477202006055052], [41.91066461965054, 12.47720233643878], [41.9104828112745, 12.476982092045006], [41.91020592018682, 12.476084198772952], [41.910303283821136, 12.475692000943411], [41.91055733550583, 12.475436825804081], [41.910815117841054, 12.475497475645113]], 'splitConcavePolygons': False, 'type': 'ComplexItem', 'version': 5}, {'autoContinue': True, 'command': 20, 'doJumpId': 49, 'frame': 2, 'params': [0, 0, 0, 0, 0, 0, 0], 'type': 'SimpleItem'}], 'plannedHomePosition': [41.912876711789345, 12.474100697522232, 29], 'vehicleType': 2, 'version': 2}, 'rallyPoints': {'points': [], 'version': 2}, 'version': 1}\n"
     ]
    }
   ],
   "source": [
    "\n",
    "# Read the JSON data from the file\n",
    "with open('piazza_di_popolo.plan', 'r') as file:\n",
    "    plan_data = json.load(file)\n",
    "\n",
    "# Print the dictionary\n",
    "print(plan_data)"
   ]
  },
  {
   "cell_type": "code",
   "execution_count": 3,
   "metadata": {},
   "outputs": [],
   "source": [
    "home_position = plan_data['mission']['plannedHomePosition']"
   ]
  },
  {
   "cell_type": "code",
   "execution_count": 4,
   "metadata": {},
   "outputs": [
    {
     "name": "stdout",
     "output_type": "stream",
     "text": [
      "arming\n",
      "takeoff to 50 m \n",
      "survey\n"
     ]
    }
   ],
   "source": [
    "\n",
    "n_items = len(plan_data['mission']['items'])\n",
    "waypoints = []\n",
    "image_capture_waypoints = []\n",
    "\n",
    "for i in range(n_items):\n",
    "    item = plan_data['mission']['items'][i]\n",
    "    if 'command' in item:\n",
    "        if item['command']==530:\n",
    "            print(\"arming\")\n",
    "        if item['command']==22:\n",
    "            print('takeoff to {} m '.format(item['params'][-1]) )\n",
    "    elif 'TransectStyleComplexItem' in item: #survey or corridor scan\n",
    "        if item['complexItemType']=='survey':\n",
    "            print(\"survey\")\n",
    "            survey = item['TransectStyleComplexItem']\n",
    "            for n, waypoint_item in enumerate(survey['Items']):\n",
    "                \n",
    "                if waypoint_item['command']==16: #MAV_CMD_NAV_WAYPOINT\n",
    "                    waypoints.append(waypoint_item['params'][4:7])\n",
    "                elif waypoint_item['command']==2000: #MAV_CMD_IMAGE_START_CAPTURE\n",
    "                    image_capture_waypoints.append(waypoints[-1])\n",
    "                else:\n",
    "                    print(waypoint_item)\n",
    "            assert survey['CameraShots']==len(image_capture_waypoints)\n",
    "    else:\n",
    "        print(item)\n",
    "    # command 2000 is MAV_CMD_IMAGE_START_CAPTURE \n",
    "    # 2001 MAV_CMD_IMAGE_STOP_CAPTURE\n",
    "    # command 16 is MAV_CMD_NAV_WAYPOINT\n",
    "    \n",
    "    # https://mavlink.io/en/messages/common.html"
   ]
  },
  {
   "cell_type": "code",
   "execution_count": 33,
   "metadata": {},
   "outputs": [],
   "source": [
    "# plan_data['mission']"
   ]
  },
  {
   "cell_type": "code",
   "execution_count": 17,
   "metadata": {},
   "outputs": [],
   "source": [
    "# plan_data['mission']['items']"
   ]
  },
  {
   "cell_type": "code",
   "execution_count": 5,
   "metadata": {},
   "outputs": [],
   "source": [
    "!touch waypoints.txt"
   ]
  },
  {
   "cell_type": "code",
   "execution_count": null,
   "metadata": {},
   "outputs": [],
   "source": [
    "with open('waypoints.txt', 'w') as f:\n",
    "    for w in waypoints:\n",
    "        f.write(f\"{w}\\n\")"
   ]
  }
 ],
 "metadata": {
  "kernelspec": {
   "display_name": "Python 3",
   "language": "python",
   "name": "python3"
  },
  "language_info": {
   "codemirror_mode": {
    "name": "ipython",
    "version": 3
   },
   "file_extension": ".py",
   "mimetype": "text/x-python",
   "name": "python",
   "nbconvert_exporter": "python",
   "pygments_lexer": "ipython3",
   "version": "3.8.10"
  }
 },
 "nbformat": 4,
 "nbformat_minor": 2
}
